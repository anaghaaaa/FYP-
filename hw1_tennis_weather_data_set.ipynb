{
  "nbformat": 4,
  "nbformat_minor": 0,
  "metadata": {
    "colab": {
      "provenance": [],
      "include_colab_link": true
    },
    "kernelspec": {
      "name": "python3",
      "display_name": "Python 3"
    },
    "language_info": {
      "name": "python"
    }
  },
  "cells": [
    {
      "cell_type": "markdown",
      "metadata": {
        "id": "view-in-github",
        "colab_type": "text"
      },
      "source": [
        "<a href=\"https://colab.research.google.com/github/anaghaaaa/FYP-/blob/main/hw1_tennis_weather_data_set.ipynb\" target=\"_parent\"><img src=\"https://colab.research.google.com/assets/colab-badge.svg\" alt=\"Open In Colab\"/></a>"
      ]
    },
    {
      "cell_type": "markdown",
      "source": [
        "dataset: tennis weather dataset in kaggle [Click here for the dataset](https://www.kaggle.com/datasets/pranavpandey2511/tennis-weather)"
      ],
      "metadata": {
        "id": "GrbQiASl8Vi2"
      }
    },
    {
      "cell_type": "markdown",
      "source": [
        "importing necessary libraries: NumPy for numerical computations, Pandas for data manipulation, and train_test_split from Scikit-Learn for splitting the data into training and testing sets."
      ],
      "metadata": {
        "id": "IzWNvyFJrmCJ"
      }
    },
    {
      "cell_type": "code",
      "execution_count": 3,
      "metadata": {
        "id": "PCNbAwp3BUPE"
      },
      "outputs": [],
      "source": [
        "import numpy as np\n",
        "import pandas as pd\n",
        "from sklearn.model_selection import train_test_split\n"
      ]
    },
    {
      "cell_type": "markdown",
      "source": [
        "reads a CSV file named 'tennis.csv' and loads it into a Pandas DataFrame called data."
      ],
      "metadata": {
        "id": "jM1vhla7rtjX"
      }
    },
    {
      "cell_type": "code",
      "source": [
        "data = pd.read_csv('/content/tennis.csv')\n"
      ],
      "metadata": {
        "id": "8zzVer8HBlxI"
      },
      "execution_count": 4,
      "outputs": []
    },
    {
      "cell_type": "markdown",
      "source": [
        "It prints the column names of the DataFrame."
      ],
      "metadata": {
        "id": "17-jr7nfrvyc"
      }
    },
    {
      "cell_type": "code",
      "source": [
        "\n",
        "print(data.columns)\n"
      ],
      "metadata": {
        "colab": {
          "base_uri": "https://localhost:8080/"
        },
        "id": "_rrR536FCbWl",
        "outputId": "6eead0d6-c049-42ee-9423-cd6bd6c16998"
      },
      "execution_count": 5,
      "outputs": [
        {
          "output_type": "stream",
          "name": "stdout",
          "text": [
            "Index(['outlook', 'temp', 'humidity', 'windy', 'play'], dtype='object')\n"
          ]
        }
      ]
    },
    {
      "cell_type": "markdown",
      "source": [
        "gives the dimension of the dataframe"
      ],
      "metadata": {
        "id": "KcqmWe8Gr1xe"
      }
    },
    {
      "cell_type": "code",
      "source": [
        "print(data.shape)"
      ],
      "metadata": {
        "colab": {
          "base_uri": "https://localhost:8080/"
        },
        "id": "D9IG2xDCFlIK",
        "outputId": "097d3f4e-c064-4250-c15c-1371b6d27551"
      },
      "execution_count": 6,
      "outputs": [
        {
          "output_type": "stream",
          "name": "stdout",
          "text": [
            "(14, 5)\n"
          ]
        }
      ]
    },
    {
      "cell_type": "markdown",
      "source": [
        "This separates the features (X) and the target variable (y) from the DataFrame."
      ],
      "metadata": {
        "id": "ouaKJ-RMr75W"
      }
    },
    {
      "cell_type": "code",
      "source": [
        "X = data.drop(columns=['play'])\n",
        "y = data['play']\n"
      ],
      "metadata": {
        "id": "AH3cfo8ECLJ3"
      },
      "execution_count": 7,
      "outputs": []
    },
    {
      "cell_type": "markdown",
      "source": [
        "Printing the features(X) from the dataframe 'Data'"
      ],
      "metadata": {
        "id": "JEAAWDE7sF6x"
      }
    },
    {
      "cell_type": "code",
      "source": [
        "print(X)"
      ],
      "metadata": {
        "colab": {
          "base_uri": "https://localhost:8080/"
        },
        "id": "pUyBfevIsGrB",
        "outputId": "3fa6c965-b5e7-48ae-85c6-9e6d542cf17f"
      },
      "execution_count": 8,
      "outputs": [
        {
          "output_type": "stream",
          "name": "stdout",
          "text": [
            "     outlook  temp humidity  windy\n",
            "0      sunny   hot     high  False\n",
            "1      sunny   hot     high   True\n",
            "2   overcast   hot     high  False\n",
            "3      rainy  mild     high  False\n",
            "4      rainy  cool   normal  False\n",
            "5      rainy  cool   normal   True\n",
            "6   overcast  cool   normal   True\n",
            "7      sunny  mild     high  False\n",
            "8      sunny  cool   normal  False\n",
            "9      rainy  mild   normal  False\n",
            "10     sunny  mild   normal   True\n",
            "11  overcast  mild     high   True\n",
            "12  overcast   hot   normal  False\n",
            "13     rainy  mild     high   True\n"
          ]
        }
      ]
    },
    {
      "cell_type": "markdown",
      "source": [
        "Printing the target variable (y)"
      ],
      "metadata": {
        "id": "Li4f4rtQsbZ9"
      }
    },
    {
      "cell_type": "code",
      "source": [
        "print(y)"
      ],
      "metadata": {
        "colab": {
          "base_uri": "https://localhost:8080/"
        },
        "id": "PGy7-e-esfor",
        "outputId": "d16a7ee0-6c6f-4270-867a-43b815f21929"
      },
      "execution_count": 9,
      "outputs": [
        {
          "output_type": "stream",
          "name": "stdout",
          "text": [
            "0      no\n",
            "1      no\n",
            "2     yes\n",
            "3     yes\n",
            "4     yes\n",
            "5      no\n",
            "6     yes\n",
            "7      no\n",
            "8     yes\n",
            "9     yes\n",
            "10    yes\n",
            "11    yes\n",
            "12    yes\n",
            "13     no\n",
            "Name: play, dtype: object\n"
          ]
        }
      ]
    },
    {
      "cell_type": "markdown",
      "source": [
        "X_encoded is created by applying one-hot encoding to the feature columns."
      ],
      "metadata": {
        "id": "hbBj1EissDpW"
      }
    },
    {
      "cell_type": "code",
      "source": [
        "X_encoded = pd.get_dummies(X)\n"
      ],
      "metadata": {
        "id": "_pTO64cACm9e"
      },
      "execution_count": 10,
      "outputs": []
    },
    {
      "cell_type": "markdown",
      "source": [
        "here, we get the dimensions of X_encoded"
      ],
      "metadata": {
        "id": "c0wsc6TFsoZe"
      }
    },
    {
      "cell_type": "code",
      "source": [
        "X_encoded.shape"
      ],
      "metadata": {
        "colab": {
          "base_uri": "https://localhost:8080/"
        },
        "id": "eqmhV5gtgN5y",
        "outputId": "206c8c6b-f304-4673-b2e7-6373dec5e332"
      },
      "execution_count": 11,
      "outputs": [
        {
          "output_type": "execute_result",
          "data": {
            "text/plain": [
              "(14, 9)"
            ]
          },
          "metadata": {},
          "execution_count": 11
        }
      ]
    },
    {
      "cell_type": "markdown",
      "source": [
        "printing X_encoded. i.e. the values of X after one hot encoding"
      ],
      "metadata": {
        "id": "g-qIOQ0osuY8"
      }
    },
    {
      "cell_type": "code",
      "source": [
        "print(X_encoded)"
      ],
      "metadata": {
        "colab": {
          "base_uri": "https://localhost:8080/"
        },
        "id": "6tpG8yy3Vc1r",
        "outputId": "58f18964-84dc-40ec-f01e-6cabb1c2ecbf"
      },
      "execution_count": 12,
      "outputs": [
        {
          "output_type": "stream",
          "name": "stdout",
          "text": [
            "    windy  outlook_overcast  outlook_rainy  outlook_sunny  temp_cool  \\\n",
            "0   False                 0              0              1          0   \n",
            "1    True                 0              0              1          0   \n",
            "2   False                 1              0              0          0   \n",
            "3   False                 0              1              0          0   \n",
            "4   False                 0              1              0          1   \n",
            "5    True                 0              1              0          1   \n",
            "6    True                 1              0              0          1   \n",
            "7   False                 0              0              1          0   \n",
            "8   False                 0              0              1          1   \n",
            "9   False                 0              1              0          0   \n",
            "10   True                 0              0              1          0   \n",
            "11   True                 1              0              0          0   \n",
            "12  False                 1              0              0          0   \n",
            "13   True                 0              1              0          0   \n",
            "\n",
            "    temp_hot  temp_mild  humidity_high  humidity_normal  \n",
            "0          1          0              1                0  \n",
            "1          1          0              1                0  \n",
            "2          1          0              1                0  \n",
            "3          0          1              1                0  \n",
            "4          0          0              0                1  \n",
            "5          0          0              0                1  \n",
            "6          0          0              0                1  \n",
            "7          0          1              1                0  \n",
            "8          0          0              0                1  \n",
            "9          0          1              0                1  \n",
            "10         0          1              0                1  \n",
            "11         0          1              1                0  \n",
            "12         1          0              0                1  \n",
            "13         0          1              1                0  \n"
          ]
        }
      ]
    },
    {
      "cell_type": "markdown",
      "source": [
        "The data is split into training and testing sets using the train_test_split function. 80% of the data is used for training (X_train and y_train), and 20% is used for testing (X_test and y_test)."
      ],
      "metadata": {
        "id": "mcb-hqWxs1BT"
      }
    },
    {
      "cell_type": "code",
      "source": [
        "X_train, X_test, y_train, y_test = train_test_split(X_encoded, y, test_size=0.2, random_state=42)\n"
      ],
      "metadata": {
        "id": "HT6G37tCCuki"
      },
      "execution_count": 13,
      "outputs": []
    },
    {
      "cell_type": "markdown",
      "source": [
        "The Pandas DataFrames are converted into NumPy arrays for further computations."
      ],
      "metadata": {
        "id": "mHsUMMDjs9ma"
      }
    },
    {
      "cell_type": "code",
      "source": [
        "\n",
        "# Convert the DataFrames to NumPy arrays\n",
        "X_train = np.array(X_train)\n",
        "X_test = np.array(X_test)\n"
      ],
      "metadata": {
        "id": "uOZlPaZtJH83"
      },
      "execution_count": 14,
      "outputs": []
    },
    {
      "cell_type": "markdown",
      "source": [
        " str_to_float to convert strings 'yes' and 'no' to 1.0 and 0.0, Used later for the target attribute"
      ],
      "metadata": {
        "id": "m4ziGfZLtD4H"
      }
    },
    {
      "cell_type": "code",
      "source": [
        "# Define a custom function to convert strings to floats\n",
        "def str_to_float(s):\n",
        "    if s == 'yes':\n",
        "        return 1.0\n",
        "    elif s == 'no':\n",
        "        return 0.0\n",
        "    else:\n",
        "        raise ValueError('Could not convert string to float: {}'.format(s))\n",
        "\n",
        "# Convert the target variable to floats\n",
        "y_train_floats = y_train.apply(str_to_float)\n"
      ],
      "metadata": {
        "id": "GI6QJ6q6J7Gc"
      },
      "execution_count": 15,
      "outputs": []
    },
    {
      "cell_type": "markdown",
      "source": [
        "sigmoid for the sigmoid activation function, and sigmoid_derivative for the derivative of the sigmoid function is created here"
      ],
      "metadata": {
        "id": "JIu5_IejtL9p"
      }
    },
    {
      "cell_type": "code",
      "source": [
        "def sigmoid(x):\n",
        "    return 1 / (1 + np.exp(-x.astype(float)))\n"
      ],
      "metadata": {
        "id": "U3738fgNGYCt"
      },
      "execution_count": 16,
      "outputs": []
    },
    {
      "cell_type": "code",
      "source": [
        "def sigmoid_derivative(x):\n",
        "    return x * (1 - x)\n"
      ],
      "metadata": {
        "id": "yILftr8IGby9"
      },
      "execution_count": 17,
      "outputs": []
    },
    {
      "cell_type": "markdown",
      "source": [
        "We define the neural network architecture: input, hidden, and output layer sizes."
      ],
      "metadata": {
        "id": "4PIprcm5tWiT"
      }
    },
    {
      "cell_type": "code",
      "source": [
        "input_size = X_train.shape[1]\n",
        "hidden_size = 1\n",
        "output_size = 1\n"
      ],
      "metadata": {
        "id": "m9TH84lZC0s1"
      },
      "execution_count": 18,
      "outputs": []
    },
    {
      "cell_type": "code",
      "source": [
        "print(input_size)"
      ],
      "metadata": {
        "id": "YcrlExwagn0R",
        "outputId": "8f0c0bd4-3727-42e5-9e3d-8fcd9ffcc8d7",
        "colab": {
          "base_uri": "https://localhost:8080/"
        }
      },
      "execution_count": 19,
      "outputs": [
        {
          "output_type": "stream",
          "name": "stdout",
          "text": [
            "9\n"
          ]
        }
      ]
    },
    {
      "cell_type": "markdown",
      "source": [
        "Random initial weights are generated for connections between input-hidden and hidden-output layers."
      ],
      "metadata": {
        "id": "9Rjh3bRvtf_C"
      }
    },
    {
      "cell_type": "code",
      "source": [
        "np.random.seed(0)\n",
        "weights_input_hidden = np.random.uniform(-1, 1, (input_size, hidden_size))\n",
        "weights_hidden_output = np.random.uniform(-1, 1, (hidden_size, output_size))\n"
      ],
      "metadata": {
        "id": "9a5rFwJ3C8Zd"
      },
      "execution_count": 20,
      "outputs": []
    },
    {
      "cell_type": "markdown",
      "source": [
        "the learning rate in neural networks determines the rate at which the model's parameters are updated during training, impacting the convergence speed and stability of the optimization process.\n"
      ],
      "metadata": {
        "id": "upyE1D1wuED2"
      }
    },
    {
      "cell_type": "markdown",
      "source": [
        "\"epoch\" in neural networks represents a single iteration through the entire training dataset during the learning process. Each epoch allows the neural network to update its parameters based on the entire dataset, helping it learn and improve its performance over time."
      ],
      "metadata": {
        "id": "xlQxK_M_uSgZ"
      }
    },
    {
      "cell_type": "code",
      "source": [
        "learning_rate = 0.01\n",
        "epochs = 5\n"
      ],
      "metadata": {
        "id": "YD3E4rNCDGax"
      },
      "execution_count": 21,
      "outputs": []
    },
    {
      "cell_type": "code",
      "source": [
        "X_train = np.array(X_train)\n"
      ],
      "metadata": {
        "id": "PGWyMjg_ITdi"
      },
      "execution_count": 22,
      "outputs": []
    },
    {
      "cell_type": "markdown",
      "source": [
        "printing X_train"
      ],
      "metadata": {
        "id": "3xHk3td2uuiH"
      }
    },
    {
      "cell_type": "code",
      "source": [
        "print(X_train)"
      ],
      "metadata": {
        "colab": {
          "base_uri": "https://localhost:8080/"
        },
        "id": "a4CnPaY7uh6Q",
        "outputId": "f0f121dc-b73e-4aa2-94a1-9e2aa0d669e5"
      },
      "execution_count": 23,
      "outputs": [
        {
          "output_type": "stream",
          "name": "stdout",
          "text": [
            "[[False 1 0 0 0 1 0 0 1]\n",
            " [True 0 1 0 1 0 0 0 1]\n",
            " [False 0 0 1 1 0 0 0 1]\n",
            " [False 1 0 0 0 1 0 1 0]\n",
            " [True 0 0 1 0 1 0 1 0]\n",
            " [True 0 1 0 0 0 1 1 0]\n",
            " [False 0 1 0 1 0 0 0 1]\n",
            " [False 0 0 1 0 0 1 1 0]\n",
            " [True 0 0 1 0 0 1 0 1]\n",
            " [False 0 1 0 0 0 1 1 0]\n",
            " [True 1 0 0 1 0 0 0 1]]\n"
          ]
        }
      ]
    },
    {
      "cell_type": "markdown",
      "source": [
        "The training data is reshaped to match the network's expected input format: samples, timesteps, features."
      ],
      "metadata": {
        "id": "Q9WGu4QJufDA"
      }
    },
    {
      "cell_type": "markdown",
      "source": [
        "printing X_train's dimensions"
      ],
      "metadata": {
        "id": "iSrAgLo5u_Al"
      }
    },
    {
      "cell_type": "code",
      "source": [
        "print(X_train.shape)"
      ],
      "metadata": {
        "colab": {
          "base_uri": "https://localhost:8080/"
        },
        "id": "vsEFFU9nvDOA",
        "outputId": "b3a15f0d-a36c-4dbc-91a9-7451cb01ef47"
      },
      "execution_count": 24,
      "outputs": [
        {
          "output_type": "stream",
          "name": "stdout",
          "text": [
            "(11, 9)\n"
          ]
        }
      ]
    },
    {
      "cell_type": "code",
      "source": [
        "X_train = X_train.reshape((X_train.shape[0], 1, X_train.shape[1]))\n"
      ],
      "metadata": {
        "id": "JsbO4C5EIG_p"
      },
      "execution_count": 25,
      "outputs": []
    },
    {
      "cell_type": "code",
      "source": [
        "print(X_train)"
      ],
      "metadata": {
        "colab": {
          "base_uri": "https://localhost:8080/"
        },
        "id": "sI58ooyru3Vx",
        "outputId": "7d85d6b9-fa76-4e29-87c0-24748cc41438"
      },
      "execution_count": 26,
      "outputs": [
        {
          "output_type": "stream",
          "name": "stdout",
          "text": [
            "[[[False 1 0 0 0 1 0 0 1]]\n",
            "\n",
            " [[True 0 1 0 1 0 0 0 1]]\n",
            "\n",
            " [[False 0 0 1 1 0 0 0 1]]\n",
            "\n",
            " [[False 1 0 0 0 1 0 1 0]]\n",
            "\n",
            " [[True 0 0 1 0 1 0 1 0]]\n",
            "\n",
            " [[True 0 1 0 0 0 1 1 0]]\n",
            "\n",
            " [[False 0 1 0 1 0 0 0 1]]\n",
            "\n",
            " [[False 0 0 1 0 0 1 1 0]]\n",
            "\n",
            " [[True 0 0 1 0 0 1 0 1]]\n",
            "\n",
            " [[False 0 1 0 0 0 1 1 0]]\n",
            "\n",
            " [[True 1 0 0 1 0 0 0 1]]]\n"
          ]
        }
      ]
    },
    {
      "cell_type": "code",
      "source": [
        "print(X_train.shape)"
      ],
      "metadata": {
        "colab": {
          "base_uri": "https://localhost:8080/"
        },
        "id": "Psdjh5_hvRds",
        "outputId": "bd4d20f4-d93e-4f9c-ad22-509e0cd0b399"
      },
      "execution_count": 27,
      "outputs": [
        {
          "output_type": "stream",
          "name": "stdout",
          "text": [
            "(11, 1, 9)\n"
          ]
        }
      ]
    },
    {
      "cell_type": "code",
      "source": [
        "# Training loop\n",
        "for epoch in range(epochs):\n",
        "    print(f\"Epoch {epoch + 1}/{epochs}\")\n",
        "    # Forward pass\n",
        "    hidden_input = np.dot(X_train, weights_input_hidden)\n",
        "    hidden_output = sigmoid(hidden_input)\n",
        "    output = np.dot(hidden_output, weights_hidden_output)\n",
        "    output = sigmoid(output)\n",
        "\n",
        "    # Calculate error and deltas for backpropagation\n",
        "    error = y_train_floats.values.reshape(-1, 1) - output\n",
        "    d_output = error * sigmoid_derivative(output)\n",
        "    d_hidden_output = d_output.dot(weights_hidden_output.T) * sigmoid_derivative(hidden_output)\n",
        "\n",
        "    # Print error for each iteration within the epoch\n",
        "    for iteration, err in enumerate(np.mean(np.abs(error), axis=1)):\n",
        "        print(f\"Iteration {iteration + 1}/{X_train.shape[0]} - Error: {err[0]:.6f}\")  # Notice the [0]\n",
        "\n"
      ],
      "metadata": {
        "colab": {
          "base_uri": "https://localhost:8080/"
        },
        "id": "omOkz6OlNhuy",
        "outputId": "b9506aad-7898-42ce-f7d9-239a4dc696c1"
      },
      "execution_count": 28,
      "outputs": [
        {
          "output_type": "stream",
          "name": "stdout",
          "text": [
            "Epoch 1/5\n",
            "Iteration 1/11 - Error: 0.513290\n",
            "Iteration 2/11 - Error: 0.511829\n",
            "Iteration 3/11 - Error: 0.511158\n",
            "Iteration 4/11 - Error: 0.512969\n",
            "Iteration 5/11 - Error: 0.512356\n",
            "Iteration 6/11 - Error: 0.511472\n",
            "Iteration 7/11 - Error: 0.511530\n",
            "Iteration 8/11 - Error: 0.510767\n",
            "Iteration 9/11 - Error: 0.511560\n",
            "Iteration 10/11 - Error: 0.511157\n",
            "Iteration 11/11 - Error: 0.512463\n",
            "Epoch 2/5\n",
            "Iteration 1/11 - Error: 0.513290\n",
            "Iteration 2/11 - Error: 0.511829\n",
            "Iteration 3/11 - Error: 0.511158\n",
            "Iteration 4/11 - Error: 0.512969\n",
            "Iteration 5/11 - Error: 0.512356\n",
            "Iteration 6/11 - Error: 0.511472\n",
            "Iteration 7/11 - Error: 0.511530\n",
            "Iteration 8/11 - Error: 0.510767\n",
            "Iteration 9/11 - Error: 0.511560\n",
            "Iteration 10/11 - Error: 0.511157\n",
            "Iteration 11/11 - Error: 0.512463\n",
            "Epoch 3/5\n",
            "Iteration 1/11 - Error: 0.513290\n",
            "Iteration 2/11 - Error: 0.511829\n",
            "Iteration 3/11 - Error: 0.511158\n",
            "Iteration 4/11 - Error: 0.512969\n",
            "Iteration 5/11 - Error: 0.512356\n",
            "Iteration 6/11 - Error: 0.511472\n",
            "Iteration 7/11 - Error: 0.511530\n",
            "Iteration 8/11 - Error: 0.510767\n",
            "Iteration 9/11 - Error: 0.511560\n",
            "Iteration 10/11 - Error: 0.511157\n",
            "Iteration 11/11 - Error: 0.512463\n",
            "Epoch 4/5\n",
            "Iteration 1/11 - Error: 0.513290\n",
            "Iteration 2/11 - Error: 0.511829\n",
            "Iteration 3/11 - Error: 0.511158\n",
            "Iteration 4/11 - Error: 0.512969\n",
            "Iteration 5/11 - Error: 0.512356\n",
            "Iteration 6/11 - Error: 0.511472\n",
            "Iteration 7/11 - Error: 0.511530\n",
            "Iteration 8/11 - Error: 0.510767\n",
            "Iteration 9/11 - Error: 0.511560\n",
            "Iteration 10/11 - Error: 0.511157\n",
            "Iteration 11/11 - Error: 0.512463\n",
            "Epoch 5/5\n",
            "Iteration 1/11 - Error: 0.513290\n",
            "Iteration 2/11 - Error: 0.511829\n",
            "Iteration 3/11 - Error: 0.511158\n",
            "Iteration 4/11 - Error: 0.512969\n",
            "Iteration 5/11 - Error: 0.512356\n",
            "Iteration 6/11 - Error: 0.511472\n",
            "Iteration 7/11 - Error: 0.511530\n",
            "Iteration 8/11 - Error: 0.510767\n",
            "Iteration 9/11 - Error: 0.511560\n",
            "Iteration 10/11 - Error: 0.511157\n",
            "Iteration 11/11 - Error: 0.512463\n"
          ]
        }
      ]
    },
    {
      "cell_type": "code",
      "source": [
        "print(\"Epoch:\", epoch, \"Error:\", np.mean(np.abs(error)))"
      ],
      "metadata": {
        "colab": {
          "base_uri": "https://localhost:8080/"
        },
        "id": "TEajVfQHAf7G",
        "outputId": "2afcdc21-3dd7-480b-fb74-6a380f10fc32"
      },
      "execution_count": 29,
      "outputs": [
        {
          "output_type": "stream",
          "name": "stdout",
          "text": [
            "Epoch: 4 Error: 0.5118682712739682\n"
          ]
        }
      ]
    },
    {
      "cell_type": "markdown",
      "source": [
        "\n",
        "#for backpropagation - do later\n",
        " # Update weights for the hidden-to-output layer\n",
        "    weights_hidden_output += np.dot(hidden_output.T, d_output) * learning_rate\n",
        "\n",
        "    # Update weights for the input-to-hidden layer\n",
        "    weights_input_hidden += np.dot(X_train.reshape(-1, input_size).T, d_hidden_output) * learning_rate"
      ],
      "metadata": {
        "id": "yLJGZuLhwnhe"
      }
    },
    {
      "cell_type": "code",
      "source": [
        "# Make predictions on the test set\n",
        "\n",
        "hidden_input_test = np.dot(X_test, weights_input_hidden)\n",
        "hidden_output_test = sigmoid(hidden_input_test)\n",
        "predictions = np.dot(hidden_output_test, weights_hidden_output)\n",
        "predictions = sigmoid(predictions)\n"
      ],
      "metadata": {
        "id": "CPaK0KkBGrE5"
      },
      "execution_count": 30,
      "outputs": []
    },
    {
      "cell_type": "code",
      "source": [
        "# Print some example predictions\n",
        "print(predictions[:10])\n"
      ],
      "metadata": {
        "id": "GP627D0CGwEU",
        "colab": {
          "base_uri": "https://localhost:8080/"
        },
        "outputId": "1f909aa7-9ddc-4086-c36f-26b9b6e2808c"
      },
      "execution_count": 31,
      "outputs": [
        {
          "output_type": "stream",
          "name": "stdout",
          "text": [
            "[[0.45740614]\n",
            " [0.45546738]\n",
            " [0.45569269]]\n"
          ]
        }
      ]
    },
    {
      "cell_type": "markdown",
      "source": [
        "Confusion matrix"
      ],
      "metadata": {
        "id": "9nOFKOCWwGlS"
      }
    },
    {
      "cell_type": "code",
      "source": [
        "from sklearn.metrics import confusion_matrix\n",
        "\n",
        "# Round the predictions to binary values (0 or 1)\n",
        "rounded_predictions = (predictions > 0.5).astype(int)\n",
        "\n",
        "# Calculate the confusion matrix\n",
        "conf_matrix = confusion_matrix(y_test.apply(str_to_float), rounded_predictions)\n",
        "\n",
        "print(\"Confusion Matrix:\")\n",
        "print(conf_matrix)\n"
      ],
      "metadata": {
        "colab": {
          "base_uri": "https://localhost:8080/"
        },
        "id": "25OtrlxQwJRe",
        "outputId": "ffc07aed-a260-4d81-f88e-44ba4f7b5191"
      },
      "execution_count": 32,
      "outputs": [
        {
          "output_type": "stream",
          "name": "stdout",
          "text": [
            "Confusion Matrix:\n",
            "[[1 0]\n",
            " [2 0]]\n"
          ]
        }
      ]
    },
    {
      "cell_type": "markdown",
      "source": [
        "True Positive (TP): 1\n",
        "True Negative (TN): 0\n",
        "False Positive (FP): 0\n",
        "False Negative (FN): 2"
      ],
      "metadata": {
        "id": "L7b_eoMFwZaZ"
      }
    },
    {
      "cell_type": "markdown",
      "source": [
        " the model seems to have predicted the positive class (play tennis) correctly for 1 instance, but it misclassified 2 instances of the negative class (don't play tennis) as positive."
      ],
      "metadata": {
        "id": "YeFuUVf3waZV"
      }
    },
    {
      "cell_type": "markdown",
      "source": [
        "The low accuracy and high number of false negatives suggest that the model's performance might be poor."
      ],
      "metadata": {
        "id": "8SaMt3-vwfSD"
      }
    },
    {
      "cell_type": "code",
      "source": [
        "accuracy = (conf_matrix[0, 0] + conf_matrix[1, 1]) / np.sum(conf_matrix)\n",
        "print(\"Accuracy:\", accuracy)\n"
      ],
      "metadata": {
        "colab": {
          "base_uri": "https://localhost:8080/"
        },
        "id": "MmaEbVaG8Ful",
        "outputId": "20017ecd-57ec-4f9b-8086-8908da148839"
      },
      "execution_count": 33,
      "outputs": [
        {
          "output_type": "stream",
          "name": "stdout",
          "text": [
            "Accuracy: 0.3333333333333333\n"
          ]
        }
      ]
    },
    {
      "cell_type": "markdown",
      "source": [
        "An accuracy of 0.3333333333333333 means that your model correctly predicted the class labels for approximately 33.33% of the total instances in your dataset. In other words, out of all the instances in the dataset, about 33.33% of them were classified correctly by your model."
      ],
      "metadata": {
        "id": "kGq4oGgX8Luc"
      }
    },
    {
      "cell_type": "markdown",
      "source": [
        "Plotting confusion matrix"
      ],
      "metadata": {
        "id": "jGM_PR-0Dt4k"
      }
    },
    {
      "cell_type": "code",
      "source": [
        "import matplotlib.pyplot as plt\n",
        "import seaborn as sns\n",
        "\n",
        "# Plot the confusion matrix\n",
        "plt.figure(figsize=(6, 6))\n",
        "sns.heatmap(conf_matrix, annot=True, fmt=\"d\", cmap=\"Blues\")\n",
        "plt.title(\"Confusion Matrix\")\n",
        "plt.xlabel(\"Predicted\")\n",
        "plt.ylabel(\"True\")\n",
        "plt.show()"
      ],
      "metadata": {
        "colab": {
          "base_uri": "https://localhost:8080/",
          "height": 564
        },
        "id": "-_5up2cPDdrc",
        "outputId": "e12b7a7d-36f5-4d18-ece8-74e162f29fff"
      },
      "execution_count": 34,
      "outputs": [
        {
          "output_type": "display_data",
          "data": {
            "text/plain": [
              "<Figure size 600x600 with 2 Axes>"
            ],
            "image/png": "[encoded data removed]"
          },
          "metadata": {}
        }
      ]
    }
  ]
}