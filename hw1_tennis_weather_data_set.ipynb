{
  "nbformat": 4,
  "nbformat_minor": 0,
  "metadata": {
    "colab": {
      "provenance": [],
      "include_colab_link": true
    },
    "kernelspec": {
      "name": "python3",
      "display_name": "Python 3"
    },
    "language_info": {
      "name": "python"
    }
  },
  "cells": [
    {
      "cell_type": "markdown",
      "metadata": {
        "id": "view-in-github",
        "colab_type": "text"
      },
      "source": [
        "<a href=\"https://colab.research.google.com/github/anaghaaaa/FYP-/blob/main/hw1_tennis_weather_data_set.ipynb\" target=\"_parent\"><img src=\"https://colab.research.google.com/assets/colab-badge.svg\" alt=\"Open In Colab\"/></a>"
      ]
    },
    {
      "cell_type": "markdown",
      "source": [
        "importing necessary libraries: NumPy for numerical computations, Pandas for data manipulation, and train_test_split from Scikit-Learn for splitting the data into training and testing sets."
      ],
      "metadata": {
        "id": "IzWNvyFJrmCJ"
      }
    },
    {
      "cell_type": "code",
      "execution_count": 33,
      "metadata": {
        "id": "PCNbAwp3BUPE"
      },
      "outputs": [],
      "source": [
        "import numpy as np\n",
        "import pandas as pd\n",
        "from sklearn.model_selection import train_test_split\n"
      ]
    },
    {
      "cell_type": "markdown",
      "source": [
        "reads a CSV file named 'tennis.csv' and loads it into a Pandas DataFrame called data."
      ],
      "metadata": {
        "id": "jM1vhla7rtjX"
      }
    },
    {
      "cell_type": "code",
      "source": [
        "data = pd.read_csv('/content/tennis.csv')\n"
      ],
      "metadata": {
        "id": "8zzVer8HBlxI"
      },
      "execution_count": 34,
      "outputs": []
    },
    {
      "cell_type": "markdown",
      "source": [
        "It prints the column names of the DataFrame."
      ],
      "metadata": {
        "id": "17-jr7nfrvyc"
      }
    },
    {
      "cell_type": "code",
      "source": [
        "\n",
        "print(data.columns)\n"
      ],
      "metadata": {
        "colab": {
          "base_uri": "https://localhost:8080/"
        },
        "id": "_rrR536FCbWl",
        "outputId": "bb52efb0-117d-489f-d546-741647679425"
      },
      "execution_count": 35,
      "outputs": [
        {
          "output_type": "stream",
          "name": "stdout",
          "text": [
            "Index(['outlook', 'temp', 'humidity', 'windy', 'play'], dtype='object')\n"
          ]
        }
      ]
    },
    {
      "cell_type": "markdown",
      "source": [
        "gives the dimension of the dataframe"
      ],
      "metadata": {
        "id": "KcqmWe8Gr1xe"
      }
    },
    {
      "cell_type": "code",
      "source": [
        "print(data.shape)"
      ],
      "metadata": {
        "colab": {
          "base_uri": "https://localhost:8080/"
        },
        "id": "D9IG2xDCFlIK",
        "outputId": "03c5ad9b-27bd-490c-f7af-116e49c5ce5a"
      },
      "execution_count": 36,
      "outputs": [
        {
          "output_type": "stream",
          "name": "stdout",
          "text": [
            "(14, 5)\n"
          ]
        }
      ]
    },
    {
      "cell_type": "markdown",
      "source": [
        "This separates the features (X) and the target variable (y) from the DataFrame."
      ],
      "metadata": {
        "id": "ouaKJ-RMr75W"
      }
    },
    {
      "cell_type": "code",
      "source": [
        "X = data.drop(columns=['play'])\n",
        "y = data['play']\n"
      ],
      "metadata": {
        "id": "AH3cfo8ECLJ3"
      },
      "execution_count": 37,
      "outputs": []
    },
    {
      "cell_type": "markdown",
      "source": [
        "Printing the features(X) from the dataframe 'Data'"
      ],
      "metadata": {
        "id": "JEAAWDE7sF6x"
      }
    },
    {
      "cell_type": "code",
      "source": [
        "print(X)"
      ],
      "metadata": {
        "colab": {
          "base_uri": "https://localhost:8080/"
        },
        "id": "pUyBfevIsGrB",
        "outputId": "6f1166f3-a76e-4100-bad5-c76b6c16e8cc"
      },
      "execution_count": 38,
      "outputs": [
        {
          "output_type": "stream",
          "name": "stdout",
          "text": [
            "     outlook  temp humidity  windy\n",
            "0      sunny   hot     high  False\n",
            "1      sunny   hot     high   True\n",
            "2   overcast   hot     high  False\n",
            "3      rainy  mild     high  False\n",
            "4      rainy  cool   normal  False\n",
            "5      rainy  cool   normal   True\n",
            "6   overcast  cool   normal   True\n",
            "7      sunny  mild     high  False\n",
            "8      sunny  cool   normal  False\n",
            "9      rainy  mild   normal  False\n",
            "10     sunny  mild   normal   True\n",
            "11  overcast  mild     high   True\n",
            "12  overcast   hot   normal  False\n",
            "13     rainy  mild     high   True\n"
          ]
        }
      ]
    },
    {
      "cell_type": "markdown",
      "source": [
        "Printing the target variable (y)"
      ],
      "metadata": {
        "id": "Li4f4rtQsbZ9"
      }
    },
    {
      "cell_type": "code",
      "source": [
        "print(y)"
      ],
      "metadata": {
        "colab": {
          "base_uri": "https://localhost:8080/"
        },
        "id": "PGy7-e-esfor",
        "outputId": "95cdb64f-f479-4cd0-8d66-dc10b16e9112"
      },
      "execution_count": 39,
      "outputs": [
        {
          "output_type": "stream",
          "name": "stdout",
          "text": [
            "0      no\n",
            "1      no\n",
            "2     yes\n",
            "3     yes\n",
            "4     yes\n",
            "5      no\n",
            "6     yes\n",
            "7      no\n",
            "8     yes\n",
            "9     yes\n",
            "10    yes\n",
            "11    yes\n",
            "12    yes\n",
            "13     no\n",
            "Name: play, dtype: object\n"
          ]
        }
      ]
    },
    {
      "cell_type": "markdown",
      "source": [
        "X_encoded is created by applying one-hot encoding to the feature columns."
      ],
      "metadata": {
        "id": "hbBj1EissDpW"
      }
    },
    {
      "cell_type": "code",
      "source": [
        "X_encoded = pd.get_dummies(X)\n"
      ],
      "metadata": {
        "id": "_pTO64cACm9e"
      },
      "execution_count": 40,
      "outputs": []
    },
    {
      "cell_type": "markdown",
      "source": [
        "here, we get the dimensions of X_encoded"
      ],
      "metadata": {
        "id": "c0wsc6TFsoZe"
      }
    },
    {
      "cell_type": "code",
      "source": [
        "X_encoded.shape"
      ],
      "metadata": {
        "colab": {
          "base_uri": "https://localhost:8080/"
        },
        "id": "eqmhV5gtgN5y",
        "outputId": "e9217f25-2ad4-4d77-805a-a27cbb53548d"
      },
      "execution_count": 41,
      "outputs": [
        {
          "output_type": "execute_result",
          "data": {
            "text/plain": [
              "(14, 9)"
            ]
          },
          "metadata": {},
          "execution_count": 41
        }
      ]
    },
    {
      "cell_type": "markdown",
      "source": [
        "printing X_encoded. i.e. the values of X after one hot encoding"
      ],
      "metadata": {
        "id": "g-qIOQ0osuY8"
      }
    },
    {
      "cell_type": "code",
      "source": [
        "print(X_encoded)"
      ],
      "metadata": {
        "colab": {
          "base_uri": "https://localhost:8080/"
        },
        "id": "6tpG8yy3Vc1r",
        "outputId": "8e202ee9-a232-452a-925b-df27754f5bff"
      },
      "execution_count": 42,
      "outputs": [
        {
          "output_type": "stream",
          "name": "stdout",
          "text": [
            "    windy  outlook_overcast  outlook_rainy  outlook_sunny  temp_cool  \\\n",
            "0   False                 0              0              1          0   \n",
            "1    True                 0              0              1          0   \n",
            "2   False                 1              0              0          0   \n",
            "3   False                 0              1              0          0   \n",
            "4   False                 0              1              0          1   \n",
            "5    True                 0              1              0          1   \n",
            "6    True                 1              0              0          1   \n",
            "7   False                 0              0              1          0   \n",
            "8   False                 0              0              1          1   \n",
            "9   False                 0              1              0          0   \n",
            "10   True                 0              0              1          0   \n",
            "11   True                 1              0              0          0   \n",
            "12  False                 1              0              0          0   \n",
            "13   True                 0              1              0          0   \n",
            "\n",
            "    temp_hot  temp_mild  humidity_high  humidity_normal  \n",
            "0          1          0              1                0  \n",
            "1          1          0              1                0  \n",
            "2          1          0              1                0  \n",
            "3          0          1              1                0  \n",
            "4          0          0              0                1  \n",
            "5          0          0              0                1  \n",
            "6          0          0              0                1  \n",
            "7          0          1              1                0  \n",
            "8          0          0              0                1  \n",
            "9          0          1              0                1  \n",
            "10         0          1              0                1  \n",
            "11         0          1              1                0  \n",
            "12         1          0              0                1  \n",
            "13         0          1              1                0  \n"
          ]
        }
      ]
    },
    {
      "cell_type": "markdown",
      "source": [
        "The data is split into training and testing sets using the train_test_split function. 80% of the data is used for training (X_train and y_train), and 20% is used for testing (X_test and y_test)."
      ],
      "metadata": {
        "id": "mcb-hqWxs1BT"
      }
    },
    {
      "cell_type": "code",
      "source": [
        "X_train, X_test, y_train, y_test = train_test_split(X_encoded, y, test_size=0.2, random_state=42)\n"
      ],
      "metadata": {
        "id": "HT6G37tCCuki"
      },
      "execution_count": 43,
      "outputs": []
    },
    {
      "cell_type": "markdown",
      "source": [
        "The Pandas DataFrames are converted into NumPy arrays for further computations."
      ],
      "metadata": {
        "id": "mHsUMMDjs9ma"
      }
    },
    {
      "cell_type": "code",
      "source": [
        "\n",
        "# Convert the DataFrames to NumPy arrays\n",
        "X_train = np.array(X_train)\n",
        "X_test = np.array(X_test)\n"
      ],
      "metadata": {
        "id": "uOZlPaZtJH83"
      },
      "execution_count": 44,
      "outputs": []
    },
    {
      "cell_type": "markdown",
      "source": [
        " str_to_float to convert strings 'yes' and 'no' to 1.0 and 0.0, Used later for the target attribute"
      ],
      "metadata": {
        "id": "m4ziGfZLtD4H"
      }
    },
    {
      "cell_type": "code",
      "source": [
        "# Define a custom function to convert strings to floats\n",
        "def str_to_float(s):\n",
        "    if s == 'yes':\n",
        "        return 1.0\n",
        "    elif s == 'no':\n",
        "        return 0.0\n",
        "    else:\n",
        "        raise ValueError('Could not convert string to float: {}'.format(s))\n",
        "\n",
        "# Convert the target variable to floats\n",
        "y_train_floats = y_train.apply(str_to_float)\n"
      ],
      "metadata": {
        "id": "GI6QJ6q6J7Gc"
      },
      "execution_count": 45,
      "outputs": []
    },
    {
      "cell_type": "markdown",
      "source": [
        "sigmoid for the sigmoid activation function, and sigmoid_derivative for the derivative of the sigmoid function is created here"
      ],
      "metadata": {
        "id": "JIu5_IejtL9p"
      }
    },
    {
      "cell_type": "code",
      "source": [
        "def sigmoid(x):\n",
        "    return 1 / (1 + np.exp(-x.astype(float)))\n"
      ],
      "metadata": {
        "id": "U3738fgNGYCt"
      },
      "execution_count": 46,
      "outputs": []
    },
    {
      "cell_type": "code",
      "source": [
        "def sigmoid_derivative(x):\n",
        "    return x * (1 - x)\n"
      ],
      "metadata": {
        "id": "yILftr8IGby9"
      },
      "execution_count": 47,
      "outputs": []
    },
    {
      "cell_type": "markdown",
      "source": [
        "We define the neural network architecture: input, hidden, and output layer sizes."
      ],
      "metadata": {
        "id": "4PIprcm5tWiT"
      }
    },
    {
      "cell_type": "code",
      "source": [
        "input_size = X_train.shape[1]\n",
        "hidden_size = 1\n",
        "output_size = 1\n"
      ],
      "metadata": {
        "id": "m9TH84lZC0s1"
      },
      "execution_count": 48,
      "outputs": []
    },
    {
      "cell_type": "code",
      "source": [
        "print(input_size)"
      ],
      "metadata": {
        "id": "YcrlExwagn0R",
        "outputId": "e8b99a8c-c489-41f0-fa59-d7515d2c0319",
        "colab": {
          "base_uri": "https://localhost:8080/"
        }
      },
      "execution_count": 49,
      "outputs": [
        {
          "output_type": "stream",
          "name": "stdout",
          "text": [
            "9\n"
          ]
        }
      ]
    },
    {
      "cell_type": "markdown",
      "source": [
        "Random initial weights are generated for connections between input-hidden and hidden-output layers."
      ],
      "metadata": {
        "id": "9Rjh3bRvtf_C"
      }
    },
    {
      "cell_type": "code",
      "source": [
        "np.random.seed(0)\n",
        "weights_input_hidden = np.random.uniform(-1, 1, (input_size, hidden_size))\n",
        "weights_hidden_output = np.random.uniform(-1, 1, (hidden_size, output_size))\n"
      ],
      "metadata": {
        "id": "9a5rFwJ3C8Zd"
      },
      "execution_count": 50,
      "outputs": []
    },
    {
      "cell_type": "markdown",
      "source": [
        "the learning rate in neural networks determines the rate at which the model's parameters are updated during training, impacting the convergence speed and stability of the optimization process.\n"
      ],
      "metadata": {
        "id": "upyE1D1wuED2"
      }
    },
    {
      "cell_type": "markdown",
      "source": [
        "\"epoch\" in neural networks represents a single iteration through the entire training dataset during the learning process. Each epoch allows the neural network to update its parameters based on the entire dataset, helping it learn and improve its performance over time."
      ],
      "metadata": {
        "id": "xlQxK_M_uSgZ"
      }
    },
    {
      "cell_type": "code",
      "source": [
        "learning_rate = 0.01\n",
        "epochs = 5\n"
      ],
      "metadata": {
        "id": "YD3E4rNCDGax"
      },
      "execution_count": 51,
      "outputs": []
    },
    {
      "cell_type": "code",
      "source": [
        "X_train = np.array(X_train)\n"
      ],
      "metadata": {
        "id": "PGWyMjg_ITdi"
      },
      "execution_count": 52,
      "outputs": []
    },
    {
      "cell_type": "markdown",
      "source": [
        "printing X_train"
      ],
      "metadata": {
        "id": "3xHk3td2uuiH"
      }
    },
    {
      "cell_type": "code",
      "source": [
        "print(X_train)"
      ],
      "metadata": {
        "colab": {
          "base_uri": "https://localhost:8080/"
        },
        "id": "a4CnPaY7uh6Q",
        "outputId": "9025b9a9-140d-4900-e3f4-6e6d4e57a96c"
      },
      "execution_count": 53,
      "outputs": [
        {
          "output_type": "stream",
          "name": "stdout",
          "text": [
            "[[False 1 0 0 0 1 0 0 1]\n",
            " [True 0 1 0 1 0 0 0 1]\n",
            " [False 0 0 1 1 0 0 0 1]\n",
            " [False 1 0 0 0 1 0 1 0]\n",
            " [True 0 0 1 0 1 0 1 0]\n",
            " [True 0 1 0 0 0 1 1 0]\n",
            " [False 0 1 0 1 0 0 0 1]\n",
            " [False 0 0 1 0 0 1 1 0]\n",
            " [True 0 0 1 0 0 1 0 1]\n",
            " [False 0 1 0 0 0 1 1 0]\n",
            " [True 1 0 0 1 0 0 0 1]]\n"
          ]
        }
      ]
    },
    {
      "cell_type": "markdown",
      "source": [
        "The training data is reshaped to match the network's expected input format: samples, timesteps, features."
      ],
      "metadata": {
        "id": "Q9WGu4QJufDA"
      }
    },
    {
      "cell_type": "markdown",
      "source": [
        "printing X_train's dimensions"
      ],
      "metadata": {
        "id": "iSrAgLo5u_Al"
      }
    },
    {
      "cell_type": "code",
      "source": [
        "print(X_train.shape)"
      ],
      "metadata": {
        "colab": {
          "base_uri": "https://localhost:8080/"
        },
        "id": "vsEFFU9nvDOA",
        "outputId": "531b95b3-29b3-4c48-97a3-ef76900058b3"
      },
      "execution_count": 54,
      "outputs": [
        {
          "output_type": "stream",
          "name": "stdout",
          "text": [
            "(11, 9)\n"
          ]
        }
      ]
    },
    {
      "cell_type": "code",
      "source": [
        "X_train = X_train.reshape((X_train.shape[0], 1, X_train.shape[1]))\n"
      ],
      "metadata": {
        "id": "JsbO4C5EIG_p"
      },
      "execution_count": 55,
      "outputs": []
    },
    {
      "cell_type": "code",
      "source": [
        "print(X_train)"
      ],
      "metadata": {
        "colab": {
          "base_uri": "https://localhost:8080/"
        },
        "id": "sI58ooyru3Vx",
        "outputId": "ad5ce258-5a7a-48c8-e959-5d133fabf3d8"
      },
      "execution_count": 56,
      "outputs": [
        {
          "output_type": "stream",
          "name": "stdout",
          "text": [
            "[[[False 1 0 0 0 1 0 0 1]]\n",
            "\n",
            " [[True 0 1 0 1 0 0 0 1]]\n",
            "\n",
            " [[False 0 0 1 1 0 0 0 1]]\n",
            "\n",
            " [[False 1 0 0 0 1 0 1 0]]\n",
            "\n",
            " [[True 0 0 1 0 1 0 1 0]]\n",
            "\n",
            " [[True 0 1 0 0 0 1 1 0]]\n",
            "\n",
            " [[False 0 1 0 1 0 0 0 1]]\n",
            "\n",
            " [[False 0 0 1 0 0 1 1 0]]\n",
            "\n",
            " [[True 0 0 1 0 0 1 0 1]]\n",
            "\n",
            " [[False 0 1 0 0 0 1 1 0]]\n",
            "\n",
            " [[True 1 0 0 1 0 0 0 1]]]\n"
          ]
        }
      ]
    },
    {
      "cell_type": "code",
      "source": [
        "print(X_train.shape)"
      ],
      "metadata": {
        "colab": {
          "base_uri": "https://localhost:8080/"
        },
        "id": "Psdjh5_hvRds",
        "outputId": "2db6a5be-c5bb-4720-8b26-e1d0b0007163"
      },
      "execution_count": 57,
      "outputs": [
        {
          "output_type": "stream",
          "name": "stdout",
          "text": [
            "(11, 1, 9)\n"
          ]
        }
      ]
    },
    {
      "cell_type": "code",
      "source": [
        "\n",
        "for epoch in range(epochs):\n",
        "    hidden_input = np.dot(X_train, weights_input_hidden)\n",
        "    hidden_output = sigmoid(hidden_input)\n",
        "    output = np.dot(hidden_output, weights_hidden_output)\n",
        "    output = sigmoid(output)\n",
        "\n",
        "    error = y_train_floats.values.reshape(-1, 1) - output\n",
        "\n",
        "    d_output = error * sigmoid_derivative(output)\n",
        "    d_hidden_output = d_output.dot(weights_hidden_output.T) * sigmoid_derivative(hidden_output)\n",
        "\n"
      ],
      "metadata": {
        "id": "omOkz6OlNhuy"
      },
      "execution_count": 58,
      "outputs": []
    },
    {
      "cell_type": "code",
      "source": [
        "print(error)"
      ],
      "metadata": {
        "colab": {
          "base_uri": "https://localhost:8080/"
        },
        "id": "BkpGLlXFWOWY",
        "outputId": "7608832c-5b7c-4535-f2e1-d87f61288ee6"
      },
      "execution_count": 59,
      "outputs": [
        {
          "output_type": "stream",
          "name": "stdout",
          "text": [
            "[[[ 0.54873076]\n",
            "  [-0.45126924]\n",
            "  [ 0.54873076]\n",
            "  [ 0.54873076]\n",
            "  [-0.45126924]\n",
            "  [-0.45126924]\n",
            "  [ 0.54873076]\n",
            "  [-0.45126924]\n",
            "  [ 0.54873076]\n",
            "  [ 0.54873076]\n",
            "  [ 0.54873076]]\n",
            "\n",
            " [[ 0.54337143]\n",
            "  [-0.45662857]\n",
            "  [ 0.54337143]\n",
            "  [ 0.54337143]\n",
            "  [-0.45662857]\n",
            "  [-0.45662857]\n",
            "  [ 0.54337143]\n",
            "  [-0.45662857]\n",
            "  [ 0.54337143]\n",
            "  [ 0.54337143]\n",
            "  [ 0.54337143]]\n",
            "\n",
            " [[ 0.5409124 ]\n",
            "  [-0.4590876 ]\n",
            "  [ 0.5409124 ]\n",
            "  [ 0.5409124 ]\n",
            "  [-0.4590876 ]\n",
            "  [-0.4590876 ]\n",
            "  [ 0.5409124 ]\n",
            "  [-0.4590876 ]\n",
            "  [ 0.5409124 ]\n",
            "  [ 0.5409124 ]\n",
            "  [ 0.5409124 ]]\n",
            "\n",
            " [[ 0.54755303]\n",
            "  [-0.45244697]\n",
            "  [ 0.54755303]\n",
            "  [ 0.54755303]\n",
            "  [-0.45244697]\n",
            "  [-0.45244697]\n",
            "  [ 0.54755303]\n",
            "  [-0.45244697]\n",
            "  [ 0.54755303]\n",
            "  [ 0.54755303]\n",
            "  [ 0.54755303]]\n",
            "\n",
            " [[ 0.5453038 ]\n",
            "  [-0.4546962 ]\n",
            "  [ 0.5453038 ]\n",
            "  [ 0.5453038 ]\n",
            "  [-0.4546962 ]\n",
            "  [-0.4546962 ]\n",
            "  [ 0.5453038 ]\n",
            "  [-0.4546962 ]\n",
            "  [ 0.5453038 ]\n",
            "  [ 0.5453038 ]\n",
            "  [ 0.5453038 ]]\n",
            "\n",
            " [[ 0.54206518]\n",
            "  [-0.45793482]\n",
            "  [ 0.54206518]\n",
            "  [ 0.54206518]\n",
            "  [-0.45793482]\n",
            "  [-0.45793482]\n",
            "  [ 0.54206518]\n",
            "  [-0.45793482]\n",
            "  [ 0.54206518]\n",
            "  [ 0.54206518]\n",
            "  [ 0.54206518]]\n",
            "\n",
            " [[ 0.54227601]\n",
            "  [-0.45772399]\n",
            "  [ 0.54227601]\n",
            "  [ 0.54227601]\n",
            "  [-0.45772399]\n",
            "  [-0.45772399]\n",
            "  [ 0.54227601]\n",
            "  [-0.45772399]\n",
            "  [ 0.54227601]\n",
            "  [ 0.54227601]\n",
            "  [ 0.54227601]]\n",
            "\n",
            " [[ 0.53948044]\n",
            "  [-0.46051956]\n",
            "  [ 0.53948044]\n",
            "  [ 0.53948044]\n",
            "  [-0.46051956]\n",
            "  [-0.46051956]\n",
            "  [ 0.53948044]\n",
            "  [-0.46051956]\n",
            "  [ 0.53948044]\n",
            "  [ 0.53948044]\n",
            "  [ 0.53948044]]\n",
            "\n",
            " [[ 0.54238748]\n",
            "  [-0.45761252]\n",
            "  [ 0.54238748]\n",
            "  [ 0.54238748]\n",
            "  [-0.45761252]\n",
            "  [-0.45761252]\n",
            "  [ 0.54238748]\n",
            "  [-0.45761252]\n",
            "  [ 0.54238748]\n",
            "  [ 0.54238748]\n",
            "  [ 0.54238748]]\n",
            "\n",
            " [[ 0.54091054]\n",
            "  [-0.45908946]\n",
            "  [ 0.54091054]\n",
            "  [ 0.54091054]\n",
            "  [-0.45908946]\n",
            "  [-0.45908946]\n",
            "  [ 0.54091054]\n",
            "  [-0.45908946]\n",
            "  [ 0.54091054]\n",
            "  [ 0.54091054]\n",
            "  [ 0.54091054]]\n",
            "\n",
            " [[ 0.54569588]\n",
            "  [-0.45430412]\n",
            "  [ 0.54569588]\n",
            "  [ 0.54569588]\n",
            "  [-0.45430412]\n",
            "  [-0.45430412]\n",
            "  [ 0.54569588]\n",
            "  [-0.45430412]\n",
            "  [ 0.54569588]\n",
            "  [ 0.54569588]\n",
            "  [ 0.54569588]]]\n"
          ]
        }
      ]
    },
    {
      "cell_type": "markdown",
      "source": [
        "\n",
        "#for backpropagation - do later\n",
        " # Update weights for the hidden-to-output layer\n",
        "    weights_hidden_output += np.dot(hidden_output.T, d_output) * learning_rate\n",
        "\n",
        "    # Update weights for the input-to-hidden layer\n",
        "    weights_input_hidden += np.dot(X_train.reshape(-1, input_size).T, d_hidden_output) * learning_rate"
      ],
      "metadata": {
        "id": "yLJGZuLhwnhe"
      }
    },
    {
      "cell_type": "code",
      "source": [
        "# Make predictions on the test set\n",
        "\n",
        "hidden_input_test = np.dot(X_test, weights_input_hidden)\n",
        "hidden_output_test = sigmoid(hidden_input_test)\n",
        "predictions = np.dot(hidden_output_test, weights_hidden_output)\n",
        "predictions = sigmoid(predictions)\n"
      ],
      "metadata": {
        "id": "CPaK0KkBGrE5"
      },
      "execution_count": 62,
      "outputs": []
    },
    {
      "cell_type": "code",
      "source": [
        "# Print some example predictions\n",
        "print(predictions[:10])\n"
      ],
      "metadata": {
        "id": "GP627D0CGwEU",
        "colab": {
          "base_uri": "https://localhost:8080/"
        },
        "outputId": "4886da9f-f9b9-4d0f-a2ed-7e84c32a35e8"
      },
      "execution_count": 63,
      "outputs": [
        {
          "output_type": "stream",
          "name": "stdout",
          "text": [
            "[[0.45740614]\n",
            " [0.45546738]\n",
            " [0.45569269]]\n"
          ]
        }
      ]
    },
    {
      "cell_type": "markdown",
      "source": [
        "Confusion matrix"
      ],
      "metadata": {
        "id": "9nOFKOCWwGlS"
      }
    },
    {
      "cell_type": "code",
      "source": [
        "from sklearn.metrics import confusion_matrix\n",
        "\n",
        "# Round the predictions to binary values (0 or 1)\n",
        "rounded_predictions = (predictions > 0.5).astype(int)\n",
        "\n",
        "# Calculate the confusion matrix\n",
        "conf_matrix = confusion_matrix(y_test.apply(str_to_float), rounded_predictions)\n",
        "\n",
        "print(\"Confusion Matrix:\")\n",
        "print(conf_matrix)\n"
      ],
      "metadata": {
        "colab": {
          "base_uri": "https://localhost:8080/"
        },
        "id": "25OtrlxQwJRe",
        "outputId": "914752a2-873a-45a8-c70c-c3bafd467050"
      },
      "execution_count": 64,
      "outputs": [
        {
          "output_type": "stream",
          "name": "stdout",
          "text": [
            "Confusion Matrix:\n",
            "[[1 0]\n",
            " [2 0]]\n"
          ]
        }
      ]
    },
    {
      "cell_type": "markdown",
      "source": [
        "True Positive (TP): 1\n",
        "True Negative (TN): 0\n",
        "False Positive (FP): 0\n",
        "False Negative (FN): 2"
      ],
      "metadata": {
        "id": "L7b_eoMFwZaZ"
      }
    },
    {
      "cell_type": "markdown",
      "source": [
        " the model seems to have predicted the positive class (play tennis) correctly for 1 instance, but it misclassified 2 instances of the negative class (don't play tennis) as positive."
      ],
      "metadata": {
        "id": "YeFuUVf3waZV"
      }
    },
    {
      "cell_type": "markdown",
      "source": [
        "The low accuracy and high number of false negatives suggest that the model's performance might be poor."
      ],
      "metadata": {
        "id": "8SaMt3-vwfSD"
      }
    }
  ]
}