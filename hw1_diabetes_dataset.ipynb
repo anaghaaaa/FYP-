{
  "nbformat": 4,
  "nbformat_minor": 0,
  "metadata": {
    "colab": {
      "provenance": [],
      "authorship_tag": "ABX9TyPmpeRWfOTrCfTmZI0PyHjr",
      "include_colab_link": true
    },
    "kernelspec": {
      "name": "python3",
      "display_name": "Python 3"
    },
    "language_info": {
      "name": "python"
    }
  },
  "cells": [
    {
      "cell_type": "markdown",
      "metadata": {
        "id": "view-in-github",
        "colab_type": "text"
      },
      "source": [
        "<a href=\"https://colab.research.google.com/github/anaghaaaa/FYP-/blob/main/hw1_diabetes_dataset.ipynb\" target=\"_parent\"><img src=\"https://colab.research.google.com/assets/colab-badge.svg\" alt=\"Open In Colab\"/></a>"
      ]
    },
    {
      "cell_type": "markdown",
      "source": [
        "dataset - Breast Cancer Wisconsin (Diagnostic)\n",
        "[click here for dataset](https://archive.ics.uci.edu/dataset/17/breast+cancer+wisconsin+diagnostic)"
      ],
      "metadata": {
        "id": "PhIg_VKd2Xp4"
      }
    },
    {
      "cell_type": "markdown",
      "source": [
        "next convert wdbc.data to wdbc.csv using sed 's/ /,/g' wdbc.data > wdbc.csv\n"
      ],
      "metadata": {
        "id": "XtOlzha02lxw"
      }
    },
    {
      "cell_type": "code",
      "source": [
        "import numpy as np\n",
        "import pandas as pd\n",
        "from sklearn.model_selection import train_test_split\n",
        "from sklearn.metrics import confusion_matrix\n",
        "\n",
        "# Read the CSV file and load it into a Pandas DataFrame\n",
        "data_org = pd.read_csv('/content/wdbc.csv')\n"
      ],
      "metadata": {
        "id": "Ui9vW6hB2xNk"
      },
      "execution_count": 39,
      "outputs": []
    },
    {
      "cell_type": "code",
      "source": [
        "print(data_org.shape)"
      ],
      "metadata": {
        "colab": {
          "base_uri": "https://localhost:8080/"
        },
        "id": "xf_s2oym204n",
        "outputId": "3213482d-e03e-48b9-a321-ae55543353bd"
      },
      "execution_count": 40,
      "outputs": [
        {
          "output_type": "stream",
          "name": "stdout",
          "text": [
            "(568, 32)\n"
          ]
        }
      ]
    },
    {
      "cell_type": "code",
      "source": [
        "print(data_org.head(5))"
      ],
      "metadata": {
        "colab": {
          "base_uri": "https://localhost:8080/"
        },
        "id": "E3x_qSH-24FU",
        "outputId": "2e378a47-e38b-48ff-9abc-e3572e91989a"
      },
      "execution_count": 41,
      "outputs": [
        {
          "output_type": "stream",
          "name": "stdout",
          "text": [
            "     842302  M  17.99  10.38   122.8    1001   0.1184   0.2776  0.3001  \\\n",
            "0    842517  M  20.57  17.77  132.90  1326.0  0.08474  0.07864  0.0869   \n",
            "1  84300903  M  19.69  21.25  130.00  1203.0  0.10960  0.15990  0.1974   \n",
            "2  84348301  M  11.42  20.38   77.58   386.1  0.14250  0.28390  0.2414   \n",
            "3  84358402  M  20.29  14.34  135.10  1297.0  0.10030  0.13280  0.1980   \n",
            "4    843786  M  12.45  15.70   82.57   477.1  0.12780  0.17000  0.1578   \n",
            "\n",
            "    0.1471  ...  25.38  17.33   184.6    2019  0.1622  0.6656  0.7119  0.2654  \\\n",
            "0  0.07017  ...  24.99  23.41  158.80  1956.0  0.1238  0.1866  0.2416  0.1860   \n",
            "1  0.12790  ...  23.57  25.53  152.50  1709.0  0.1444  0.4245  0.4504  0.2430   \n",
            "2  0.10520  ...  14.91  26.50   98.87   567.7  0.2098  0.8663  0.6869  0.2575   \n",
            "3  0.10430  ...  22.54  16.67  152.20  1575.0  0.1374  0.2050  0.4000  0.1625   \n",
            "4  0.08089  ...  15.47  23.75  103.40   741.6  0.1791  0.5249  0.5355  0.1741   \n",
            "\n",
            "   0.4601   0.1189  \n",
            "0  0.2750  0.08902  \n",
            "1  0.3613  0.08758  \n",
            "2  0.6638  0.17300  \n",
            "3  0.2364  0.07678  \n",
            "4  0.3985  0.12440  \n",
            "\n",
            "[5 rows x 32 columns]\n"
          ]
        }
      ]
    },
    {
      "cell_type": "code",
      "source": [
        "print(data_org.columns)"
      ],
      "metadata": {
        "colab": {
          "base_uri": "https://localhost:8080/"
        },
        "id": "5rRsjd6328hB",
        "outputId": "f82e3751-b039-43c0-f46e-d43e39cbf869"
      },
      "execution_count": 42,
      "outputs": [
        {
          "output_type": "stream",
          "name": "stdout",
          "text": [
            "Index(['842302', 'M', '17.99', '10.38', '122.8', '1001', '0.1184', '0.2776',\n",
            "       '0.3001', '0.1471', '0.2419', '0.07871', '1.095', '0.9053', '8.589',\n",
            "       '153.4', '0.006399', '0.04904', '0.05373', '0.01587', '0.03003',\n",
            "       '0.006193', '25.38', '17.33', '184.6', '2019', '0.1622', '0.6656',\n",
            "       '0.7119', '0.2654', '0.4601', '0.1189'],\n",
            "      dtype='object')\n"
          ]
        }
      ]
    },
    {
      "cell_type": "code",
      "source": [
        "data = data_org.drop(data_org.columns[0], axis=1)\n"
      ],
      "metadata": {
        "id": "tT2sNaMX3OG1"
      },
      "execution_count": 43,
      "outputs": []
    },
    {
      "cell_type": "code",
      "source": [
        "print(data_org.shape)"
      ],
      "metadata": {
        "colab": {
          "base_uri": "https://localhost:8080/"
        },
        "id": "xCjV2Uod3Pet",
        "outputId": "07f558de-f504-4a3a-914f-3ed9d91a8574"
      },
      "execution_count": 44,
      "outputs": [
        {
          "output_type": "stream",
          "name": "stdout",
          "text": [
            "(568, 32)\n"
          ]
        }
      ]
    },
    {
      "cell_type": "code",
      "source": [
        "print(data_org.columns)"
      ],
      "metadata": {
        "colab": {
          "base_uri": "https://localhost:8080/"
        },
        "id": "8jfuhHfO3Sva",
        "outputId": "a63783ce-0d07-45b1-b2eb-16ab813d446a"
      },
      "execution_count": 45,
      "outputs": [
        {
          "output_type": "stream",
          "name": "stdout",
          "text": [
            "Index(['842302', 'M', '17.99', '10.38', '122.8', '1001', '0.1184', '0.2776',\n",
            "       '0.3001', '0.1471', '0.2419', '0.07871', '1.095', '0.9053', '8.589',\n",
            "       '153.4', '0.006399', '0.04904', '0.05373', '0.01587', '0.03003',\n",
            "       '0.006193', '25.38', '17.33', '184.6', '2019', '0.1622', '0.6656',\n",
            "       '0.7119', '0.2654', '0.4601', '0.1189'],\n",
            "      dtype='object')\n"
          ]
        }
      ]
    },
    {
      "cell_type": "code",
      "source": [
        "# Load the Wisconsin Breast Cancer Diagnostic dataset into a DataFrame\n",
        "column_names = ['id', 'diagnosis'] + [f'feature_{i}' for i in range(1, 31)]\n",
        "data = pd.read_csv('/content/wdbc.csv',header=None, names=column_names)"
      ],
      "metadata": {
        "id": "kDG0ueIg3uNA"
      },
      "execution_count": 46,
      "outputs": []
    },
    {
      "cell_type": "code",
      "source": [
        "print(data.shape)"
      ],
      "metadata": {
        "colab": {
          "base_uri": "https://localhost:8080/"
        },
        "id": "yfOBXEi44LKM",
        "outputId": "7b919cba-6ea2-41b1-b274-49256954e13a"
      },
      "execution_count": 47,
      "outputs": [
        {
          "output_type": "stream",
          "name": "stdout",
          "text": [
            "(569, 32)\n"
          ]
        }
      ]
    },
    {
      "cell_type": "code",
      "source": [
        "print(data.head)"
      ],
      "metadata": {
        "colab": {
          "base_uri": "https://localhost:8080/"
        },
        "id": "mth28Mpo4OaM",
        "outputId": "7a4bfd93-d89f-4f13-ff25-87d366ef66bb"
      },
      "execution_count": 48,
      "outputs": [
        {
          "output_type": "stream",
          "name": "stdout",
          "text": [
            "<bound method NDFrame.head of            id diagnosis  feature_1  feature_2  feature_3  feature_4  \\\n",
            "0      842302         M      17.99      10.38     122.80     1001.0   \n",
            "1      842517         M      20.57      17.77     132.90     1326.0   \n",
            "2    84300903         M      19.69      21.25     130.00     1203.0   \n",
            "3    84348301         M      11.42      20.38      77.58      386.1   \n",
            "4    84358402         M      20.29      14.34     135.10     1297.0   \n",
            "..        ...       ...        ...        ...        ...        ...   \n",
            "564    926424         M      21.56      22.39     142.00     1479.0   \n",
            "565    926682         M      20.13      28.25     131.20     1261.0   \n",
            "566    926954         M      16.60      28.08     108.30      858.1   \n",
            "567    927241         M      20.60      29.33     140.10     1265.0   \n",
            "568     92751         B       7.76      24.54      47.92      181.0   \n",
            "\n",
            "     feature_5  feature_6  feature_7  feature_8  ...  feature_21  feature_22  \\\n",
            "0      0.11840    0.27760    0.30010    0.14710  ...      25.380       17.33   \n",
            "1      0.08474    0.07864    0.08690    0.07017  ...      24.990       23.41   \n",
            "2      0.10960    0.15990    0.19740    0.12790  ...      23.570       25.53   \n",
            "3      0.14250    0.28390    0.24140    0.10520  ...      14.910       26.50   \n",
            "4      0.10030    0.13280    0.19800    0.10430  ...      22.540       16.67   \n",
            "..         ...        ...        ...        ...  ...         ...         ...   \n",
            "564    0.11100    0.11590    0.24390    0.13890  ...      25.450       26.40   \n",
            "565    0.09780    0.10340    0.14400    0.09791  ...      23.690       38.25   \n",
            "566    0.08455    0.10230    0.09251    0.05302  ...      18.980       34.12   \n",
            "567    0.11780    0.27700    0.35140    0.15200  ...      25.740       39.42   \n",
            "568    0.05263    0.04362    0.00000    0.00000  ...       9.456       30.37   \n",
            "\n",
            "     feature_23  feature_24  feature_25  feature_26  feature_27  feature_28  \\\n",
            "0        184.60      2019.0     0.16220     0.66560      0.7119      0.2654   \n",
            "1        158.80      1956.0     0.12380     0.18660      0.2416      0.1860   \n",
            "2        152.50      1709.0     0.14440     0.42450      0.4504      0.2430   \n",
            "3         98.87       567.7     0.20980     0.86630      0.6869      0.2575   \n",
            "4        152.20      1575.0     0.13740     0.20500      0.4000      0.1625   \n",
            "..          ...         ...         ...         ...         ...         ...   \n",
            "564      166.10      2027.0     0.14100     0.21130      0.4107      0.2216   \n",
            "565      155.00      1731.0     0.11660     0.19220      0.3215      0.1628   \n",
            "566      126.70      1124.0     0.11390     0.30940      0.3403      0.1418   \n",
            "567      184.60      1821.0     0.16500     0.86810      0.9387      0.2650   \n",
            "568       59.16       268.6     0.08996     0.06444      0.0000      0.0000   \n",
            "\n",
            "     feature_29  feature_30  \n",
            "0        0.4601     0.11890  \n",
            "1        0.2750     0.08902  \n",
            "2        0.3613     0.08758  \n",
            "3        0.6638     0.17300  \n",
            "4        0.2364     0.07678  \n",
            "..          ...         ...  \n",
            "564      0.2060     0.07115  \n",
            "565      0.2572     0.06637  \n",
            "566      0.2218     0.07820  \n",
            "567      0.4087     0.12400  \n",
            "568      0.2871     0.07039  \n",
            "\n",
            "[569 rows x 32 columns]>\n"
          ]
        }
      ]
    },
    {
      "cell_type": "code",
      "source": [
        "# Separate features (X) and target variable (y)\n",
        "X = data.drop(columns=['id', 'diagnosis'])\n",
        "y = data['diagnosis']\n",
        "\n"
      ],
      "metadata": {
        "id": "0aKOZ0U52zY_"
      },
      "execution_count": 49,
      "outputs": []
    },
    {
      "cell_type": "code",
      "source": [
        "\n",
        "# Apply one-hot encoding to the feature columns\n",
        "X_encoded = pd.get_dummies(X)\n"
      ],
      "metadata": {
        "id": "NsdmltWG4drJ"
      },
      "execution_count": 50,
      "outputs": []
    },
    {
      "cell_type": "code",
      "source": [
        "# Split the data into training and testing sets\n",
        "X_train, X_test, y_train, y_test = train_test_split(X_encoded, y, test_size=0.2, random_state=42)"
      ],
      "metadata": {
        "id": "JulUzT5l4fyh"
      },
      "execution_count": 51,
      "outputs": []
    },
    {
      "cell_type": "code",
      "source": [
        "def str_to_float(s):\n",
        "    if s == 'M':\n",
        "        return 1.0\n",
        "    elif s == 'B':\n",
        "        return 0.0\n",
        "    else:\n",
        "        raise ValueError('Could not convert string to float: {}'.format(s))\n",
        "\n",
        "\n",
        "y_train_floats = y_train.apply(str_to_float)"
      ],
      "metadata": {
        "id": "GCvOMWGt4jQE"
      },
      "execution_count": 52,
      "outputs": []
    },
    {
      "cell_type": "code",
      "source": [
        "# Define sigmoid activation function and its derivative\n",
        "def sigmoid(x):\n",
        "    return 1 / (1 + np.exp(-x.astype(float)))\n",
        "\n",
        "def sigmoid_derivative(x):\n",
        "    return x * (1 - x)"
      ],
      "metadata": {
        "id": "D1iJ0Oqn5UDU"
      },
      "execution_count": 53,
      "outputs": []
    },
    {
      "cell_type": "code",
      "source": [
        "# Define neural network architecture\n",
        "input_size = X_train.shape[1]\n",
        "hidden_size = 1\n",
        "output_size = 1\n"
      ],
      "metadata": {
        "id": "4B0r568x5Ygq"
      },
      "execution_count": 54,
      "outputs": []
    },
    {
      "cell_type": "code",
      "source": [
        "# Initialize random weights for input-hidden and hidden-output layers\n",
        "np.random.seed(0)\n",
        "weights_input_hidden = np.random.uniform(-1, 1, (input_size, hidden_size))\n",
        "weights_hidden_output = np.random.uniform(-1, 1, (hidden_size, output_size))\n"
      ],
      "metadata": {
        "id": "KaYeOjFi5a2B"
      },
      "execution_count": 55,
      "outputs": []
    },
    {
      "cell_type": "code",
      "source": [
        "# Hyperparameters\n",
        "learning_rate = 0.01\n",
        "epochs = 5"
      ],
      "metadata": {
        "id": "96AqjqBJ5eaP"
      },
      "execution_count": 56,
      "outputs": []
    },
    {
      "cell_type": "code",
      "source": [
        "# Reshape training data to match the network's input format\n",
        "X_train = X_train.values.reshape((X_train.shape[0], 1, X_train.shape[1]))"
      ],
      "metadata": {
        "id": "0PqWb5QK5f_C"
      },
      "execution_count": 57,
      "outputs": []
    },
    {
      "cell_type": "code",
      "source": [
        "print(X_train.shape)"
      ],
      "metadata": {
        "colab": {
          "base_uri": "https://localhost:8080/"
        },
        "id": "uRQVwW0X6L7x",
        "outputId": "b2335a24-0d4f-4622-8282-b0f48aef5690"
      },
      "execution_count": 59,
      "outputs": [
        {
          "output_type": "stream",
          "name": "stdout",
          "text": [
            "(455, 1, 30)\n"
          ]
        }
      ]
    },
    {
      "cell_type": "code",
      "source": [
        "print(X_train)"
      ],
      "metadata": {
        "colab": {
          "base_uri": "https://localhost:8080/"
        },
        "id": "qa6GH0hJ6IaT",
        "outputId": "a5e8582f-252f-42b2-fb27-efd453b59537"
      },
      "execution_count": 58,
      "outputs": [
        {
          "output_type": "stream",
          "name": "stdout",
          "text": [
            "[[[9.029e+00 1.733e+01 5.879e+01 ... 1.750e-01 4.228e-01 1.175e-01]]\n",
            "\n",
            " [[2.109e+01 2.657e+01 1.427e+02 ... 2.903e-01 4.098e-01 1.284e-01]]\n",
            "\n",
            " [[9.173e+00 1.386e+01 5.920e+01 ... 5.087e-02 3.282e-01 8.490e-02]]\n",
            "\n",
            " ...\n",
            "\n",
            " [[1.429e+01 1.682e+01 9.030e+01 ... 3.333e-02 2.458e-01 6.120e-02]]\n",
            "\n",
            " [[1.398e+01 1.962e+01 9.112e+01 ... 1.827e-01 3.179e-01 1.055e-01]]\n",
            "\n",
            " [[1.218e+01 2.052e+01 7.722e+01 ... 7.431e-02 2.694e-01 6.878e-02]]]\n"
          ]
        }
      ]
    },
    {
      "cell_type": "code",
      "source": [
        "# Training loop\n",
        "for epoch in range(epochs):\n",
        "    # Forward pass\n",
        "    hidden_input = np.dot(X_train, weights_input_hidden)\n",
        "    hidden_output = sigmoid(hidden_input)\n",
        "    output = np.dot(hidden_output, weights_hidden_output)\n",
        "    output = sigmoid(output)\n",
        "# Calculate error and deltas for backpropagation\n",
        "    error = y_train_floats.values.reshape(-1, 1) - output\n",
        "    d_output = error * sigmoid_derivative(output)\n",
        "    d_hidden_output = d_output.dot(weights_hidden_output.T) * sigmoid_derivative(hidden_output)"
      ],
      "metadata": {
        "id": "sQym2hCi6Hnn"
      },
      "execution_count": 65,
      "outputs": []
    },
    {
      "cell_type": "code",
      "source": [
        "print(error)"
      ],
      "metadata": {
        "colab": {
          "base_uri": "https://localhost:8080/"
        },
        "id": "xlRSG31Y66XJ",
        "outputId": "6134894d-d14a-4ede-8052-04475bd52880"
      },
      "execution_count": 71,
      "outputs": [
        {
          "output_type": "stream",
          "name": "stdout",
          "text": [
            "[[[-0.3844059]\n",
            "  [ 0.6155941]\n",
            "  [-0.3844059]\n",
            "  ...\n",
            "  [-0.3844059]\n",
            "  [ 0.6155941]\n",
            "  [-0.3844059]]\n",
            "\n",
            " [[-0.3844059]\n",
            "  [ 0.6155941]\n",
            "  [-0.3844059]\n",
            "  ...\n",
            "  [-0.3844059]\n",
            "  [ 0.6155941]\n",
            "  [-0.3844059]]\n",
            "\n",
            " [[-0.3844059]\n",
            "  [ 0.6155941]\n",
            "  [-0.3844059]\n",
            "  ...\n",
            "  [-0.3844059]\n",
            "  [ 0.6155941]\n",
            "  [-0.3844059]]\n",
            "\n",
            " ...\n",
            "\n",
            " [[-0.3844059]\n",
            "  [ 0.6155941]\n",
            "  [-0.3844059]\n",
            "  ...\n",
            "  [-0.3844059]\n",
            "  [ 0.6155941]\n",
            "  [-0.3844059]]\n",
            "\n",
            " [[-0.3844059]\n",
            "  [ 0.6155941]\n",
            "  [-0.3844059]\n",
            "  ...\n",
            "  [-0.3844059]\n",
            "  [ 0.6155941]\n",
            "  [-0.3844059]]\n",
            "\n",
            " [[-0.3844059]\n",
            "  [ 0.6155941]\n",
            "  [-0.3844059]\n",
            "  ...\n",
            "  [-0.3844059]\n",
            "  [ 0.6155941]\n",
            "  [-0.3844059]]]\n"
          ]
        }
      ]
    },
    {
      "cell_type": "markdown",
      "source": [
        "backpropagation- to do later - Update weights\n",
        "\n",
        "weights_hidden_output += np.dot(hidden_output.T, d_output) * learning_rate\n",
        "weights_input_hidden += np.dot(X_train.reshape(-1, input_size).T, d_hidden_output) * learning_rate"
      ],
      "metadata": {
        "id": "wc6b4iVm6pq5"
      }
    },
    {
      "cell_type": "code",
      "source": [
        "# Make predictions on the test set\n",
        "hidden_input_test = np.dot(X_test, weights_input_hidden)\n",
        "hidden_output_test = sigmoid(hidden_input_test)\n",
        "predictions = np.dot(hidden_output_test, weights_hidden_output)\n",
        "predictions = sigmoid(predictions)"
      ],
      "metadata": {
        "id": "gmhP4Qap6yKt"
      },
      "execution_count": 68,
      "outputs": []
    },
    {
      "cell_type": "code",
      "source": [
        "# Round predictions to binary values\n",
        "rounded_predictions = (predictions > 0.5).astype(int)"
      ],
      "metadata": {
        "id": "wUjccfjV60wC"
      },
      "execution_count": 69,
      "outputs": []
    },
    {
      "cell_type": "code",
      "source": [
        "# Calculate confusion matrix\n",
        "conf_matrix = confusion_matrix(y_test.apply(str_to_float), rounded_predictions)\n",
        "print(\"Confusion Matrix:\")\n",
        "print(conf_matrix)"
      ],
      "metadata": {
        "colab": {
          "base_uri": "https://localhost:8080/"
        },
        "id": "VCWIAwn-62_C",
        "outputId": "39669f53-0285-4a76-cfaf-2ba1e37adfd7"
      },
      "execution_count": 70,
      "outputs": [
        {
          "output_type": "stream",
          "name": "stdout",
          "text": [
            "Confusion Matrix:\n",
            "[[71  0]\n",
            " [43  0]]\n"
          ]
        }
      ]
    },
    {
      "cell_type": "markdown",
      "source": [
        "\n",
        "True Positive (TP): 71\n",
        "True Negative (TN): 0\n",
        "False Positive (FP): 0\n",
        "False Negative (FN): 43"
      ],
      "metadata": {
        "id": "dTG6ujn_7FXU"
      }
    },
    {
      "cell_type": "markdown",
      "source": [
        "## Inferences\n",
        "This confusion matrix suggests that your model is correctly predicting the negative class (benign) for 71 instances, but it is misclassifying all instances of the positive class (malignant) as negative. The model has a high number of false negatives, which means it's failing to identify instances of the positive class correctly.\n",
        "\n",
        "A confusion matrix like this indicates that your model might be overly biased towards predicting the negative class."
      ],
      "metadata": {
        "id": "lQjx18fm7HP8"
      }
    },
    {
      "cell_type": "markdown",
      "source": [
        " Depending on the context of your problem, you might need to adjust the model's threshold, try a different algorithm, or perform additional feature engineering to improve its performance."
      ],
      "metadata": {
        "id": "TgBkUuOL7fB9"
      }
    },
    {
      "cell_type": "code",
      "source": [
        "accuracy = (conf_matrix[0, 0] + conf_matrix[1, 1]) / np.sum(conf_matrix)\n",
        "print(\"Accuracy:\", accuracy)\n"
      ],
      "metadata": {
        "colab": {
          "base_uri": "https://localhost:8080/"
        },
        "id": "CxPKmOrt72-q",
        "outputId": "12e632da-7bd4-4004-a222-55d7e412323f"
      },
      "execution_count": 72,
      "outputs": [
        {
          "output_type": "stream",
          "name": "stdout",
          "text": [
            "Accuracy: 0.6228070175438597\n"
          ]
        }
      ]
    },
    {
      "cell_type": "markdown",
      "source": [
        "\n",
        "An accuracy of 0.6228070175438597 means that your model correctly predicted the class labels for approximately 62.28% of the total instances in your dataset. In other words, out of all the instances in the dataset, about 62.28% of them were classified correctly by your model."
      ],
      "metadata": {
        "id": "gebgemCo8BXQ"
      }
    }
  ]
}